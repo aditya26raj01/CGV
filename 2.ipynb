{
 "cells": [
  {
   "cell_type": "code",
   "execution_count": null,
   "id": "205c7605-496e-4f4b-984f-691b9d22f75b",
   "metadata": {},
   "outputs": [
    {
     "data": {
      "image/png": "[encoded data removed]",
      "text/plain": [
       "<Figure size 640x480 with 1 Axes>"
      ]
     },
     "metadata": {},
     "output_type": "display_data"
    },
    {
     "name": "stdout",
     "output_type": "stream",
     "text": [
      "\n",
      "Choose a geometric operation:\n",
      "1. Translate the polygon\n",
      "2. Rotate the polygon\n",
      "3. Scale the polygon\n",
      "4. Reflect the polygon over x-axis\n",
      "5. Exit\n"
     ]
    }
   ],
   "source": [
    "import matplotlib.pyplot as plt\n",
    "import numpy as np\n",
    "\n",
    "# Function to plot a polygon\n",
    "def plot_polygon(polygon, title):\n",
    "    plt.figure()\n",
    "    plt.title(title)\n",
    "    plt.gca().set_aspect('equal', adjustable='box')\n",
    "    plt.grid(True)\n",
    "    # Plot the polygon\n",
    "    polygon = np.concatenate((polygon, [polygon[0]]))  # Close the polygon\n",
    "    plt.plot(polygon[:, 0], polygon[:, 1], 'b-')\n",
    "    # Plot vertices\n",
    "    plt.plot(polygon[:-1, 0], polygon[:-1, 1], 'bo')\n",
    "    for i, (x, y) in enumerate(polygon[:-1]):\n",
    "        plt.text(x, y, f'P{i}', ha='right')\n",
    "    plt.show()\n",
    "\n",
    "# Function to translate a polygon\n",
    "def translate_polygon(polygon):\n",
    "    tx = float(input(\"Enter translation along x-axis: \"))\n",
    "    ty = float(input(\"Enter translation along y-axis: \"))\n",
    "    translated_polygon = polygon + np.array([tx, ty])\n",
    "    return translated_polygon\n",
    "\n",
    "# Function to rotate a polygon\n",
    "def rotate_polygon(polygon):\n",
    "    angle_degrees = float(input(\"Enter rotation angle in degrees: \"))\n",
    "    angle_radians = np.radians(angle_degrees)\n",
    "    rotation_matrix = np.array([[np.cos(angle_radians), -lllllllllllllnp.sin(angle_radians)],\n",
    "                                [np.sin(angle_radians), np.cos(angle_radians)]])\n",
    "    rotated_polygon = np.dot(polygon, rotation_matrix)\n",
    "    return rotated_polygon\n",
    "\n",
    "# Function to scale a polygon\n",
    "def scale_polygon(polygon):\n",
    "    sx = float(input(\"Enter scaling factor along x-axis: \"))\n",
    "    sy = float(input(\"Enter scaling factor along y-axis: \"))\n",
    "    scaled_polygon = polygon * np.array([sx, sy])\n",
    "    return scaled_polygon\n",
    "\n",
    "# Function to reflect a polygon over x-axis\n",
    "def reflect_polygon_x_axis(polygon):\n",
    "    reflected_polygon = np.array(polygon)\n",
    "    reflected_polygon[:, 1] = -reflected_polygon[:, 1]\n",
    "    return reflected_polygon\n",
    "\n",
    "# Main function to demonstrate geometric operations\n",
    "def main():\n",
    "    # Define a simple polygon as a list of vertices (x, y)\n",
    "    polygon = np.array([[2, 2], [5, 4], [7, 6], [4, 8], [1, 6]])\n",
    "    # Plot the original polygon\n",
    "    plot_polygon(polygon, 'Original Polygon')\n",
    "    # Prompt user for the geometric operation\n",
    "    while True:\n",
    "        print(\"\\nChoose a geometric operation:\")\n",
    "        print(\"1. Translate the polygon\")\n",
    "        print(\"2. Rotate the polygon\")\n",
    "        print(\"3. Scale the polygon\")\n",
    "        print(\"4. Reflect the polygon over x-axis\")\n",
    "        print(\"5. Exit\")\n",
    "        choice = input(\"Enter your choice (1-5): \")\n",
    "        if choice == '1':\n",
    "            polygon = translate_polygon(polygon)\n",
    "        elif choice == '2':\n",
    "            polygon = rotate_polygon(polygon)\n",
    "        elif choice == '3':\n",
    "            polygon = scale_polygon(polygon)\n",
    "        elif choice == '4':\n",
    "            polygon = reflect_polygon_x_axis(polygon)\n",
    "        elif choice == '5':\n",
    "            break\n",
    "        else:\n",
    "            print(\"Invalid choice. Please enter a valid option.\")\n",
    "        # Plot the transformed polygon\n",
    "        plot_polygon(polygon, 'Transformed Polygon')\n",
    "    print(\"Exiting...\")\n",
    "\n",
    "if __name__ == \"__main__\":\n",
    "    main()\n"
   ]
  },
  {
   "cell_type": "code",
   "execution_count": null,
   "id": "a89056ef-a238-4279-89bc-413fcc2a0fb3",
   "metadata": {},
   "outputs": [],
   "source": []
  }
 ],
 "metadata": {
  "kernelspec": {
   "display_name": "Python 3 (ipykernel)",
   "language": "python",
   "name": "python3"
  },
  "language_info": {
   "codemirror_mode": {
    "name": "ipython",
    "version": 3
   },
   "file_extension": ".py",
   "mimetype": "text/x-python",
   "name": "python",
   "nbconvert_exporter": "python",
   "pygments_lexer": "ipython3",
   "version": "3.12.4"
  }
 },
 "nbformat": 4,
 "nbformat_minor": 5
}
