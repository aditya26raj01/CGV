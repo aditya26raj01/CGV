{
 "cells": [
  {
   "cell_type": "code",
   "execution_count": null,
   "id": "b5bedccb-cb2e-48cf-a030-01aac3d3b4fb",
   "metadata": {},
   "outputs": [],
   "source": [
    "import cv2\n",
    "import numpy as np\n",
    "import matplotlib.pyplot as plt\n",
    "# Read the image\n",
    "img = cv2.imread(\"Original.png\")\n",
    "# Get the height and width of the image\n",
    "height, width = img.shape[:2]\n",
    "# Split the image into four quadrants\n",
    "quad1 = img[:height//2, :width//2]\n",
    "quad2 = img[:height//2, width//2:]\n",
    "quad3 = img[height//2:, :width//2]\n",
    "quad4 = img[height//2:, width//2:]\n",
    "plt.figure(figsize=(10, 5))\n",
    "plt.subplot(1, 2, 1)\n",
    "plt.imshow(quad1)\n",
    "plt.title(\"1\")\n",
    "plt.axis(\"off\")\n",
    "plt.subplot(1, 2, 2)\n",
    "plt.imshow(quad2)\n",
    "plt.title(\"2\")\n",
    "plt.axis(\"off\")\n",
    "plt.figure(figsize=(10, 5))\n",
    "plt.subplot(1, 2, 1)\n",
    "plt.imshow(quad3)\n",
    "plt.title(\"3\")\n",
    "plt.axis(\"off\")\n",
    "plt.subplot(1, 2, 2)\n",
    "plt.imshow(quad4)\n",
    "plt.title(\"4\")\n",
    "plt.axis(\"off\")\n",
    "plt.show()"
   ]
  }
 ],
 "metadata": {
  "kernelspec": {
   "display_name": "Python 3 (ipykernel)",
   "language": "python",
   "name": "python3"
  },
  "language_info": {
   "codemirror_mode": {
    "name": "ipython",
    "version": 3
   },
   "file_extension": ".py",
   "mimetype": "text/x-python",
   "name": "python",
   "nbconvert_exporter": "python",
   "pygments_lexer": "ipython3",
   "version": "3.12.4"
  }
 },
 "nbformat": 4,
 "nbformat_minor": 5
}
