{
 "cells": [
  {
   "cell_type": "code",
   "execution_count": null,
   "id": "26c68125-1d7c-4b91-bafc-72f9f73c3c4c",
   "metadata": {},
   "outputs": [],
   "source": [
    "import cv2\n",
    "import numpy as np\n",
    "\n",
    "# Load the image\n",
    "image_path = \"Original.png\"  # Replace with the path to your image\n",
    "img = cv2.imread(image_path)\n",
    "\n",
    "# Get the image dimensions\n",
    "height, width, _ = img.shape\n",
    "\n",
    "# Define the transformation matrices\n",
    "rotation_matrix = cv2.getRotationMatrix2D((width/2, height/2), 45, 1)  # Rotate by 45 degrees\n",
    "scaling_matrix = np.float32([[1.5, 0, 0], [0, 1.5, 0]])  # Scale by 1.5x\n",
    "translation_matrix = np.float32([[1, 0, 100], [0, 1, 50]])  # Translate by (100, 50)\n",
    "\n",
    "# Apply transformations\n",
    "rotated_img = cv2.warpAffine(img, rotation_matrix, (width, height))\n",
    "scaled_img = cv2.warpAffine(img, scaling_matrix, (int(width*1.5), int(height*1.5)))\n",
    "translated_img = cv2.warpAffine(img, translation_matrix, (width, height))\n",
    "\n",
    "# Display the original and transformed images\n",
    "cv2.imshow(\"Original Image\", img)\n",
    "cv2.imshow(\"Rotated Image\", rotated_img)\n",
    "cv2.imshow(\"Scaled Image\", scaled_img)\n",
    "cv2.imshow(\"Translated Image\", translated_img)\n",
    "\n",
    "# Wait for a key press and then close all windows\n",
    "cv2.waitKey(0)\n",
    "cv2.destroyAllWindows()"
   ]
  }
 ],
 "metadata": {
  "kernelspec": {
   "display_name": "Python 3 (ipykernel)",
   "language": "python",
   "name": "python3"
  },
  "language_info": {
   "codemirror_mode": {
    "name": "ipython",
    "version": 3
   },
   "file_extension": ".py",
   "mimetype": "text/x-python",
   "name": "python",
   "nbconvert_exporter": "python",
   "pygments_lexer": "ipython3",
   "version": "3.12.4"
  }
 },
 "nbformat": 4,
 "nbformat_minor": 5
}
