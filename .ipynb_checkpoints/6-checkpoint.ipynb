{
 "cells": [
  {
   "cell_type": "code",
   "execution_count": null,
   "id": "a8f6809b-e118-47dc-ab2f-44a92f624f4b",
   "metadata": {},
   "outputs": [],
   "source": [
    "import pygame\n",
    "import sys\n",
    "\n",
    "# Initialize Pygame\n",
    "pygame.init()\n",
    "\n",
    "# Set up display\n",
    "width, height = 800, 600\n",
    "window = pygame.display.set_mode((width, height))\n",
    "pygame.display.set_caption('Moving Circle Animation')\n",
    "\n",
    "# Define colors\n",
    "black = (0, 0, 0)\n",
    "white = (255, 255, 255)\n",
    "\n",
    "# Initial position of the circle\n",
    "x, y = width // 2, height // 2\n",
    "radius = 20\n",
    "dx, dy = 5, 5  # Movement step\n",
    "\n",
    "# Run the game loop\n",
    "running = True\n",
    "while running:\n",
    "    for event in pygame.event.get():\n",
    "        if event.type == pygame.QUIT:\n",
    "            running = False\n",
    "\n",
    "    # Move the circle\n",
    "    x += dx\n",
    "    y += dy\n",
    "\n",
    "    # Bounce the circle off the edges\n",
    "    if x - radius < 0 or x + radius > width:\n",
    "        dx = -dx\n",
    "    if y - radius < 0 or y + radius > height:\n",
    "        dy = -dy\n",
    "\n",
    "    # Fill the screen with black\n",
    "    window.fill(black)\n",
    "\n",
    "    # Draw the circle\n",
    "    pygame.draw.circle(window, white, (x, y), radius)\n",
    "\n",
    "    # Update the display\n",
    "    pygame.display.flip()\n",
    "\n",
    "    # Cap the frame rate\n",
    "    pygame.time.Clock().tick(60)\n",
    "\n",
    "# Quit Pygame\n",
    "pygame.quit()\n",
    "sys.exit()\n"
   ]
  }
 ],
 "metadata": {
  "kernelspec": {
   "display_name": "Python 3 (ipykernel)",
   "language": "python",
   "name": "python3"
  },
  "language_info": {
   "codemirror_mode": {
    "name": "ipython",
    "version": 3
   },
   "file_extension": ".py",
   "mimetype": "text/x-python",
   "name": "python",
   "nbconvert_exporter": "python",
   "pygments_lexer": "ipython3",
   "version": "3.12.4"
  }
 },
 "nbformat": 4,
 "nbformat_minor": 5
}
