{
 "cells": [
  {
   "cell_type": "code",
   "execution_count": null,
   "id": "b8b87a14-97ea-43ff-87bf-2f29040dfe23",
   "metadata": {},
   "outputs": [],
   "source": [
    "import cv2\n",
    "import numpy as np\n",
    "import matplotlib.pyplot as plt\n",
    "\n",
    "# Load the image in grayscale\n",
    "img = cv2.imread(\"Original.png\", cv2.IMREAD_GRAYSCALE)\n",
    "image_array = np.array(img)\n",
    "print(image_array)\n",
    "\n",
    "# Define the sharpen filter\n",
    "def sharpen():\n",
    "    return np.array([[1, 1, 1], [1, 1, 1], [1, 1, 1]])\n",
    "\n",
    "# Define the filtering function\n",
    "def filtering(image, kernel):\n",
    "    m, n = kernel.shape\n",
    "    if m == n:\n",
    "        y, x = image.shape\n",
    "        y = y - m + 1 # shape of image - shape of kernel + 1\n",
    "        x = x - m + 1\n",
    "        new_image = np.zeros((y, x))\n",
    "        for i in range(y):\n",
    "            for j in range(x):\n",
    "                new_image[i][j] = np.sum(image[i:i+m, j:j+m] * kernel)\n",
    "        return new_image\n",
    "\n",
    "# Display the original and sharpened images\n",
    "plt.figure(figsize=(10, 5))\n",
    "plt.subplot(1, 2, 1)\n",
    "plt.imshow(image_array, cmap='gray')\n",
    "plt.title(\"Original Grayscale Image\")\n",
    "plt.axis(\"off\")\n",
    "\n",
    "plt.subplot(1, 2, 2)\n",
    "plt.imshow(filtering(image_array, sharpen()), cmap='gray')\n",
    "plt.title(\"Blurred Image\")\n",
    "plt.axis(\"off\")\n",
    "\n",
    "plt.show()\n"
   ]
  }
 ],
 "metadata": {
  "kernelspec": {
   "display_name": "Python 3 (ipykernel)",
   "language": "python",
   "name": "python3"
  },
  "language_info": {
   "codemirror_mode": {
    "name": "ipython",
    "version": 3
   },
   "file_extension": ".py",
   "mimetype": "text/x-python",
   "name": "python",
   "nbconvert_exporter": "python",
   "pygments_lexer": "ipython3",
   "version": "3.12.4"
  }
 },
 "nbformat": 4,
 "nbformat_minor": 5
}
