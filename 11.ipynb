{
 "cells": [
  {
   "cell_type": "code",
   "execution_count": null,
   "id": "a09303a9-f916-4cdb-843f-d4caf7d252ed",
   "metadata": {},
   "outputs": [],
   "source": [
    "import cv2\n",
    "import numpy as np\n",
    "image_path = 'Original.png'\n",
    "image = cv2.imread(image_path)\n",
    "# Convert the image to grayscale (contours work best on binary images)\n",
    "gray = cv2.cvtColor(image, cv2.COLOR_BGR2GRAY)\n",
    "# Apply thresholding (you can use other techniques like Sobel edges)\n",
    "_, binary_image = cv2.threshold(gray, 127, 255, cv2.THRESH_BINARY)\n",
    "# Find contours\n",
    "contours, _ = cv2.findContours(binary_image, cv2.RETR_EXTERNAL,\n",
    "cv2.CHAIN_APPROX_SIMPLE)\n",
    "# Draw all contours on the original image\n",
    "cv2.drawContours(image, contours, -1, (0, 255, 0), 3)\n",
    "# Display the result\n",
    "cv2.imshow('Contours', image)\n",
    "cv2.waitKey(0)\n",
    "cv2.destroyAllWindows()"
   ]
  }
 ],
 "metadata": {
  "kernelspec": {
   "display_name": "Python 3 (ipykernel)",
   "language": "python",
   "name": "python3"
  },
  "language_info": {
   "codemirror_mode": {
    "name": "ipython",
    "version": 3
   },
   "file_extension": ".py",
   "mimetype": "text/x-python",
   "name": "python",
   "nbconvert_exporter": "python",
   "pygments_lexer": "ipython3",
   "version": "3.12.4"
  }
 },
 "nbformat": 4,
 "nbformat_minor": 5
}
